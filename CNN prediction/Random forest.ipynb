{
 "cells": [
  {
   "cell_type": "code",
   "execution_count": 12,
   "metadata": {},
   "outputs": [],
   "source": [
    "import pandas as pd\n",
    "from sklearn.ensemble import RandomForestClassifier\n",
    "from sklearn.model_selection import train_test_split\n",
    "from sklearn.metrics import confusion_matrix, classification_report\n",
    "import numpy as np"
   ]
  },
  {
   "cell_type": "code",
   "execution_count": 27,
   "metadata": {},
   "outputs": [],
   "source": [
    "encoding_type = 'last_state'\n",
    "prefix = 5\n",
    "input_data = pd.read_csv('../data/'+encoding_type+'_'+str(prefix)+'.csv')\n",
    "y_data = input_data.loc[:,['Label']]\n",
    "input_data = input_data.drop(['Label'],axis=1)\n",
    "x_data = input_data\n",
    "x_data = x_data.drop('(case) SUMleges',axis=1)\n",
    "x_train, x_test, y_train, y_test = train_test_split(x_data, y_data, test_size=0.33, random_state=69)\n"
   ]
  },
  {
   "cell_type": "code",
   "execution_count": 29,
   "metadata": {},
   "outputs": [
    {
     "name": "stderr",
     "output_type": "stream",
     "text": [
      "/opt/anaconda3/lib/python3.6/site-packages/ipykernel_launcher.py:2: DataConversionWarning: A column-vector y was passed when a 1d array was expected. Please change the shape of y to (n_samples,), for example using ravel().\n",
      "  \n"
     ]
    },
    {
     "name": "stdout",
     "output_type": "stream",
     "text": [
      "              precision    recall  f1-score   support\n",
      "\n",
      "         0.0       0.97      1.00      0.98       224\n",
      "         1.0       0.98      0.86      0.91        50\n",
      "\n",
      "    accuracy                           0.97       274\n",
      "   macro avg       0.97      0.93      0.95       274\n",
      "weighted avg       0.97      0.97      0.97       274\n",
      "\n"
     ]
    }
   ],
   "source": [
    "ml = RandomForestClassifier(criterion='entropy',n_estimators=100)\n",
    "ml.fit(x_train,y_train)\n",
    "y_pred = ml.predict(x_test)\n",
    "\n",
    "print(classification_report(y_test,y_pred))"
   ]
  }
 ],
 "metadata": {
  "kernelspec": {
   "display_name": "Python 3",
   "language": "python",
   "name": "python3"
  },
  "language_info": {
   "codemirror_mode": {
    "name": "ipython",
    "version": 3
   },
   "file_extension": ".py",
   "mimetype": "text/x-python",
   "name": "python",
   "nbconvert_exporter": "python",
   "pygments_lexer": "ipython3",
   "version": "3.6.5"
  }
 },
 "nbformat": 4,
 "nbformat_minor": 2
}
