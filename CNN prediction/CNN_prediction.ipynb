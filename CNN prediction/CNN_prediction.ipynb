{
 "cells": [
  {
   "cell_type": "markdown",
   "metadata": {},
   "source": [
    "# Outcome oriented prediction with CNN"
   ]
  },
  {
   "cell_type": "code",
   "execution_count": 1,
   "metadata": {},
   "outputs": [],
   "source": [
    "import os\n",
    "import numpy as np\n",
    "import torch\n",
    "import torch.nn as nn\n",
    "import torch.nn.utils as torch_utils\n",
    "import pandas as pd\n",
    "from torch.utils.data import DataLoader,Dataset\n",
    "from torchvision import transforms\n",
    "import matplotlib.pyplot as plt\n",
    "from sklearn.model_selection import train_test_split\n",
    "from sklearn.metrics import confusion_matrix, classification_report\n"
   ]
  },
  {
   "cell_type": "code",
   "execution_count": 2,
   "metadata": {},
   "outputs": [
    {
     "name": "stdout",
     "output_type": "stream",
     "text": [
      "Wed Jul 29 16:57:20 2020       \n",
      "+-----------------------------------------------------------------------------+\n",
      "| NVIDIA-SMI 396.51                 Driver Version: 396.51                    |\n",
      "|-------------------------------+----------------------+----------------------+\n",
      "| GPU  Name        Persistence-M| Bus-Id        Disp.A | Volatile Uncorr. ECC |\n",
      "| Fan  Temp  Perf  Pwr:Usage/Cap|         Memory-Usage | GPU-Util  Compute M. |\n",
      "|===============================+======================+======================|\n",
      "|   0  GeForce GTX 108...  Off  | 00000000:02:00.0 Off |                  N/A |\n",
      "| 26%   49C    P2    52W / 250W |   3083MiB / 11177MiB |      0%      Default |\n",
      "+-------------------------------+----------------------+----------------------+\n",
      "|   1  GeForce GTX 108...  Off  | 00000000:03:00.0 Off |                  N/A |\n",
      "| 23%   34C    P8    16W / 250W |     12MiB / 11178MiB |      0%      Default |\n",
      "+-------------------------------+----------------------+----------------------+\n",
      "|   2  GeForce GTX 108...  Off  | 00000000:82:00.0 Off |                  N/A |\n",
      "| 23%   37C    P8    17W / 250W |     12MiB / 11178MiB |      0%      Default |\n",
      "+-------------------------------+----------------------+----------------------+\n",
      "|   3  GeForce GTX 108...  Off  | 00000000:83:00.0 Off |                  N/A |\n",
      "| 23%   34C    P8    16W / 250W |     12MiB / 11178MiB |      0%      Default |\n",
      "+-------------------------------+----------------------+----------------------+\n",
      "                                                                               \n",
      "+-----------------------------------------------------------------------------+\n",
      "| Processes:                                                       GPU Memory |\n",
      "|  GPU       PID   Type   Process name                             Usage      |\n",
      "|=============================================================================|\n",
      "|    0      5258      C   /opt/anaconda3/bin/python3                   159MiB |\n",
      "|    0      8574      C   python3                                      161MiB |\n",
      "|    0     10732      C   python3                                      161MiB |\n",
      "|    0     16724      C   /opt/anaconda3/bin/python3                   155MiB |\n",
      "|    0     16727      C   /opt/anaconda3/bin/python3                   155MiB |\n",
      "|    0     16728      C   /opt/anaconda3/bin/python3                   155MiB |\n",
      "|    0     16731      C   /opt/anaconda3/bin/python3                   155MiB |\n",
      "|    0     16761      C   /opt/anaconda3/bin/python3                   155MiB |\n",
      "|    0     16765      C   /opt/anaconda3/bin/python3                   155MiB |\n",
      "|    0     16766      C   /opt/anaconda3/bin/python3                   155MiB |\n",
      "|    0     16780      C   /opt/anaconda3/bin/python3                   155MiB |\n",
      "|    0     16805      C   /opt/anaconda3/bin/python3                   155MiB |\n",
      "|    0     16821      C   /opt/anaconda3/bin/python3                   155MiB |\n",
      "|    0     16947      G   /usr/lib/xorg/Xorg                            47MiB |\n",
      "|    0     20220      C   /opt/anaconda3/bin/python                    519MiB |\n",
      "|    0     31689      C   /opt/anaconda3/bin/python3                   163MiB |\n",
      "|    0     38546      C   python3                                      161MiB |\n",
      "+-----------------------------------------------------------------------------+\n"
     ]
    }
   ],
   "source": [
    "os.environ[\"CUDA_DEVICE_ORDER\"]=\"PCI_BUS_ID\"\n",
    "\n",
    "os.environ[\"CUDA_VISIBLE_DEVICES\"]=\"0\"\n",
    "!nvidia-smi"
   ]
  },
  {
   "cell_type": "markdown",
   "metadata": {},
   "source": [
    "## Construct custom dataloader"
   ]
  },
  {
   "cell_type": "code",
   "execution_count": 3,
   "metadata": {},
   "outputs": [],
   "source": [
    "class Customdataset(Dataset):\n",
    "    def __init__(self,x_data,y_data,transform=None):\n",
    "        '''\n",
    "        Call stored dataset\n",
    "        \n",
    "        Params\n",
    "        second: Ellapsed second from the beginning of events \n",
    "        encoding_type: Encoding method for outcomeprediction ex) Static, last_state, aggregation, etc.\n",
    "        '''\n",
    "        \n",
    "        \n",
    "        \n",
    "        # Transforms\n",
    "        self.transform = transform\n",
    "        self.y_data=y_data.to_numpy()\n",
    "        self.x_data=x_data.to_numpy()\n",
    "    def __len__(self):\n",
    "        return len(self.x_data)\n",
    "    \n",
    "    def __getitem__(self,idx):\n",
    "        \n",
    "        # Convert x and y data to torch flaot tensor\n",
    "        x = torch.FloatTensor(self.x_data[idx])\n",
    "        y = self.y_data[idx]\n",
    "        return x,y"
   ]
  },
  {
   "cell_type": "code",
   "execution_count": 4,
   "metadata": {},
   "outputs": [],
   "source": [
    "encoding_type = 'last_state'\n",
    "prefix = 5\n",
    "input_data = pd.read_csv('../data/'+encoding_type+'_'+str(prefix)+'.csv')\n",
    "y_data = input_data.loc[:,['Label']]\n",
    "input_data = input_data.drop(['Label'],axis=1)\n",
    "x_data = input_data\n",
    "x_data = x_data.drop('(case) SUMleges',axis=1)\n",
    "\n",
    "x_train, x_test, y_train, y_test = train_test_split(x_data, y_data, test_size=0.33, random_state=69)\n"
   ]
  },
  {
   "cell_type": "code",
   "execution_count": 5,
   "metadata": {},
   "outputs": [],
   "source": [
    "trainset = Customdataset(x_train,y_train)\n",
    "testset = Customdataset(x_test,y_test)"
   ]
  },
  {
   "cell_type": "code",
   "execution_count": 6,
   "metadata": {},
   "outputs": [],
   "source": [
    "batch_size =1\n",
    "train_loader = DataLoader(trainset, batch_size=batch_size, shuffle=True)\n",
    "test_loader = DataLoader(testset,batch_size=1)"
   ]
  },
  {
   "cell_type": "markdown",
   "metadata": {},
   "source": [
    "## Data description\n",
    "X value  \n",
    "BPIC 2015_2 train loader dataset size is 1 \\* 816  \n",
    "Each rows is a case and 1 cases for one train iteration due to batch_size is 1.  \n",
    "816 elements are included in a single case which are timestamp related information, case and event attributes.  \n",
    "\n",
    "Y value  \n",
    "Size of y value is 1 and content is 0 or 1 binary class."
   ]
  },
  {
   "cell_type": "code",
   "execution_count": 7,
   "metadata": {},
   "outputs": [
    {
     "name": "stdout",
     "output_type": "stream",
     "text": [
      "torch.Size([1, 1, 816])\n",
      "torch.Size([1, 4, 407])\n",
      "torch.Size([1, 2, 202])\n",
      "torch.Size([1, 1, 100])\n",
      "torch.Size([100])\n",
      "torch.Size([1])\n"
     ]
    }
   ],
   "source": [
    "x = torch.ones([1,816])\n",
    "x = x.unsqueeze(0)\n",
    "print(x.shape)\n",
    "sampling = nn.MaxPool1d(2, 2)\n",
    "cnn1 = nn.Conv1d(in_channels=1, out_channels=4, kernel_size=3, stride=1)\n",
    "y = cnn1(x)\n",
    "y = sampling(y)\n",
    "print(y.shape)\n",
    "cnn2 = nn.Conv1d(in_channels=4, out_channels=2, kernel_size=3, stride=1)\n",
    "y = cnn2(y)\n",
    "y = sampling(y)\n",
    "print(y.shape)\n",
    "cnn3 = nn.Conv1d(in_channels=2, out_channels=1, kernel_size=3, stride=1)\n",
    "y = cnn3(y)\n",
    "y = sampling(y)\n",
    "print(y.shape)\n",
    "y = y.squeeze()\n",
    "print(y.shape)\n",
    "ll1 = nn.Linear(100,50)\n",
    "ll2 = nn.Linear(50,25)\n",
    "ll3 = nn.Linear(25,1)\n",
    "y = ll1(y)\n",
    "y = ll2(y)\n",
    "y = ll3(y)\n",
    "print(y.shape)"
   ]
  },
  {
   "cell_type": "code",
   "execution_count": 8,
   "metadata": {},
   "outputs": [],
   "source": [
    "class CNN_prediction(nn.Module):\n",
    "    def __init__(self):\n",
    "        super(CNN_prediction,self).__init__()\n",
    "        \n",
    "        # CNN part       \n",
    "        self.activation = nn.ReLU()\n",
    "        self.subsampling = nn.MaxPool1d(2,2)\n",
    "\n",
    "        self.cnn1 = nn.Conv1d(in_channels=1, out_channels=4, kernel_size=3, stride=1)\n",
    "        self.cnn2 = nn.Conv1d(in_channels=4, out_channels=2, kernel_size=3, stride=1)\n",
    "        self.cnn3 = nn.Conv1d(in_channels=2, out_channels=1, kernel_size=3, stride=1)\n",
    "        \n",
    "        self.classifier = nn.Sequential(\n",
    "                                        nn.Dropout(),\n",
    "                                        nn.Linear(100, 50),\n",
    "                                        nn.ReLU(),\n",
    "                                        nn.Dropout(),\n",
    "                                        nn.Linear(50, 25),\n",
    "                                        nn.ReLU(),\n",
    "                                        nn.Linear(25, 1)\n",
    "        )\n",
    "        self.cnn_featuremap =0\n",
    "    \n",
    "    def forward(self, inputs):\n",
    "\n",
    "        \"\"\"\n",
    "        implement code here\n",
    "        \"\"\"\n",
    "        inputs = inputs.unsqueeze(0)\n",
    "        hidden = self.cnn1(inputs)\n",
    "        hidden = self.activation(hidden)\n",
    "        hidden = self.subsampling(hidden)\n",
    "\n",
    "        hidden = self.cnn2(hidden)\n",
    "        hidden = self.activation(hidden)\n",
    "        hidden = self.subsampling(hidden)\n",
    "\n",
    "        hidden = self.cnn3(hidden)\n",
    "        hidden = self.activation(hidden)\n",
    "        hidden = self.subsampling(hidden)\n",
    "\n",
    "        hidden = hidden.squeeze()\n",
    "        self.cnn_featuremap = hidden\n",
    "        \n",
    "        outputs = self.classifier(hidden)\n",
    "        \n",
    "        return outputs\n",
    "\n",
    "model = CNN_prediction().cuda()\n",
    "\n",
    "# Loss function & Optimizers\n",
    "\"\"\"\n",
    "you can change the loss and optimizer\n",
    "\"\"\"\n",
    "criterion = torch.nn.BCELoss()\n",
    "optimizer = torch.optim.Adam(model.parameters(), lr=0.001, weight_decay=1e-4)\n",
    "\n",
    "\n",
    "\n",
    "# Hyperparameters\n",
    "\"\"\"\n",
    "you can change the value\n",
    "\"\"\"\n",
    "num_epochs = 100\n",
    "batch_size = 1   "
   ]
  },
  {
   "cell_type": "code",
   "execution_count": 9,
   "metadata": {},
   "outputs": [],
   "source": [
    "def binary_acc(train_predict, train_y):\n",
    "    train_predict_tag = torch.round(torch.sigmoid(train_predict))\n",
    "    correct_results_sum = (train_predict_tag == train_y).sum().float()\n",
    "    acc = correct_results_sum/train_y.shape[0]\n",
    "    acc = torch.round(acc *100)\n",
    "    \n",
    "    return acc    "
   ]
  },
  {
   "cell_type": "code",
   "execution_count": 10,
   "metadata": {},
   "outputs": [
    {
     "name": "stdout",
     "output_type": "stream",
     "text": [
      "\n",
      "train accuracy: 36.94 %, test accuracy: 32.85 %\n",
      "epoch:1, train_loss: 6.3660, test_loss: 7.0498\n",
      "\n",
      "train accuracy: 38.92 %, test accuracy: 35.40 %\n",
      "epoch:11, train_loss: 6.1621, test_loss: 7.6122\n",
      "\n",
      "train accuracy: 38.20 %, test accuracy: 36.86 %\n",
      "epoch:21, train_loss: 6.5988, test_loss: 5.7409\n",
      "\n",
      "train accuracy: 35.68 %, test accuracy: 33.58 %\n",
      "epoch:31, train_loss: 6.8619, test_loss: 7.4777\n",
      "\n",
      "train accuracy: 36.40 %, test accuracy: 36.86 %\n",
      "epoch:41, train_loss: 6.8993, test_loss: 6.4273\n",
      "\n",
      "train accuracy: 36.04 %, test accuracy: 33.94 %\n",
      "epoch:51, train_loss: 6.6108, test_loss: 7.6310\n",
      "\n",
      "train accuracy: 37.12 %, test accuracy: 35.77 %\n",
      "epoch:61, train_loss: 6.6489, test_loss: 7.0289\n",
      "\n",
      "train accuracy: 39.46 %, test accuracy: 37.96 %\n",
      "epoch:71, train_loss: 6.4307, test_loss: 6.9374\n",
      "\n",
      "train accuracy: 39.64 %, test accuracy: 33.94 %\n",
      "epoch:81, train_loss: 6.3012, test_loss: 6.5047\n",
      "\n",
      "train accuracy: 34.59 %, test accuracy: 35.77 %\n",
      "epoch:91, train_loss: 6.8369, test_loss: 7.0265\n"
     ]
    }
   ],
   "source": [
    "# Train CNN_prediction first\n",
    "\n",
    "accuracy_graph = {'train':[], 'test':[], 'epoch': []}\n",
    "loss_graph = {'train':[], 'test':[], 'epoch': []}\n",
    "model = CNN_prediction().cuda()\n",
    "\n",
    "for epoch in range(num_epochs):\n",
    "    epoch_loss = 0\n",
    "    epoch_acc = 0\n",
    "    # Training\n",
    "    for train_x, train_y in train_loader: \n",
    "        train_y = train_y.squeeze(1)\n",
    "        train_x, train_y = train_x.cuda(), train_y.cuda()\n",
    "        \n",
    "        \n",
    "        train_predict = model(train_x)\n",
    "        train_predict = train_predict.float()\n",
    "        train_y = train_y.float()\n",
    "        \n",
    "        loss = criterion(torch.sigmoid(train_predict), train_y)\n",
    "        acc = binary_acc(train_predict, train_y)\n",
    "        # Backpropagation        \n",
    "        optimizer.zero_grad()\n",
    "        loss.backward()\n",
    "        optimizer.step()\n",
    "\n",
    "        \n",
    "        epoch_loss += loss.item()\n",
    "        epoch_acc += acc.item()\n",
    "                \n",
    "\n",
    "    # Evaluation\n",
    "    if epoch % 10 ==0:\n",
    "        \n",
    "        test_acc = 0\n",
    "        test_loss =0\n",
    "        \n",
    "        for test_x, test_y in test_loader:\n",
    "\n",
    "            with torch.autograd.no_grad():\n",
    "                test_y = test_y.squeeze(1)\n",
    "                test_x, test_y = test_x.cuda(), test_y.cuda()\n",
    "                test_predict = model(test_x)\n",
    "\n",
    "            test_predict = test_predict.float()\n",
    "            test_y = test_y.float()\n",
    "\n",
    "            loss = criterion(torch.sigmoid(test_predict), test_y)\n",
    "            acc = binary_acc(test_predict, test_y)\n",
    "            \n",
    "            test_loss += loss.item()\n",
    "            test_acc += acc.item()\n",
    "                               \n",
    "        print(\"\\ntrain accuracy: {:.2f} %, test accuracy: {:.2f} %\".format(epoch_acc/len(train_loader), test_acc/len(test_loader)))\n",
    "        print(\"epoch:{}, train_loss: {:.4f}, test_loss: {:.4f}\".format(epoch+1, epoch_loss/len(train_loader), test_loss/len(test_loader))) \n",
    "        accuracy_graph['epoch'] = epoch+1\n",
    "        accuracy_graph['train'] = epoch_acc/len(train_loader)\n",
    "\n",
    "        loss_graph['epoch'] = epoch+1\n",
    "        loss_graph['train'] = epoch_loss/len(train_loader)\n",
    "        loss_graph['test'] = test_loss/len(test_loader)\n",
    "\n",
    "\n",
    "#         torch.save(model.state_dict(), \"./cnn_predic.pt\")"
   ]
  },
  {
   "cell_type": "code",
   "execution_count": 11,
   "metadata": {},
   "outputs": [
    {
     "name": "stdout",
     "output_type": "stream",
     "text": [
      "              precision    recall  f1-score   support\n",
      "\n",
      "         0.0       0.00      0.00      0.00       224\n",
      "         1.0       0.18      1.00      0.31        50\n",
      "\n",
      "    accuracy                           0.18       274\n",
      "   macro avg       0.09      0.50      0.15       274\n",
      "weighted avg       0.03      0.18      0.06       274\n",
      "\n"
     ]
    },
    {
     "name": "stderr",
     "output_type": "stream",
     "text": [
      "/home/suhwan/.local/lib/python3.6/site-packages/sklearn/metrics/_classification.py:1268: UndefinedMetricWarning: Precision and F-score are ill-defined and being set to 0.0 in labels with no predicted samples. Use `zero_division` parameter to control this behavior.\n",
      "  _warn_prf(average, modifier, msg_start, len(result))\n"
     ]
    }
   ],
   "source": [
    "test_acc = 0\n",
    "test_loss =0\n",
    "y_predict_list=[]\n",
    "model.eval()\n",
    "\n",
    "testset = Customdataset(x_test,y_test)\n",
    "test_loader = DataLoader(testset,batch_size=1)\n",
    "\n",
    "with torch.autograd.no_grad():\n",
    "    for test_x, test_y in test_loader:\n",
    "        test_y = test_y.squeeze(1)\n",
    "        test_x, test_y = test_x.cuda(), test_y.cuda()\n",
    "        test_predict = model(test_x)\n",
    "\n",
    "        test_predict = test_predict.float()\n",
    "        test_y = test_y.float()\n",
    "        \n",
    "        test_predict_tag = torch.round(torch.sigmoid(test_predict))\n",
    "        y_predict_list.append(test_predict_tag.cpu().numpy())\n",
    "        \n",
    "print(classification_report(y_test,y_predict_list))"
   ]
  },
  {
   "cell_type": "code",
   "execution_count": 39,
   "metadata": {},
   "outputs": [
    {
     "name": "stdout",
     "output_type": "stream",
     "text": [
      "555\n",
      "274\n",
      "100\n"
     ]
    },
    {
     "data": {
      "image/png": "[encoded data removed]",
      "text/plain": [
       "<Figure size 432x288 with 1 Axes>"
      ]
     },
     "metadata": {},
     "output_type": "display_data"
    }
   ],
   "source": [
    "trainset = Customdataset(x_train,y_train)\n",
    "train_loader = DataLoader(trainset,batch_size=1)\n",
    "\n",
    "featured_train=[]\n",
    "with torch.autograd.no_grad():\n",
    "    for train_x, train_y in train_loader:\n",
    "        train_y = train_y.squeeze(1)\n",
    "        train_x, train_y = train_x.cuda(), train_y.cuda()\n",
    "        train_predict = model(train_x)\n",
    "\n",
    "        train_predict = train_predict.float()\n",
    "        train_y = train_y.float()\n",
    "        \n",
    "        test_predict_tag = torch.round(torch.sigmoid(test_predict))\n",
    "        y_predict_list.append(test_predict_tag.cpu().numpy())\n",
    "        featured_train.append(model.cnn_featuremap.cpu().numpy())\n",
    "print(len(featured_train))\n",
    "plt.plot(featured_train[1])\n",
    "testset = Customdataset(x_test,y_test)\n",
    "test_loader = DataLoader(testset,batch_size=1)\n",
    "\n",
    "featured_test=[]\n",
    "with torch.autograd.no_grad():\n",
    "    for test_x, test_y in test_loader:\n",
    "        test_y = test_y.squeeze(1)\n",
    "        test_x, test_y = test_x.cuda(), test_y.cuda()\n",
    "        test_predict = model(test_x)\n",
    "\n",
    "        test_predict = test_predict.float()\n",
    "        test_y = test_y.float()\n",
    "        \n",
    "        test_predict_tag = torch.round(torch.sigmoid(test_predict))\n",
    "        y_predict_list.append(test_predict_tag.cpu().numpy())\n",
    "        featured_test.append(model.cnn_featuremap.cpu().numpy())\n",
    "print(len(featured_test))\n",
    "print(len(featured_test[0]))"
   ]
  },
  {
   "cell_type": "code",
   "execution_count": 31,
   "metadata": {},
   "outputs": [],
   "source": [
    "import pandas as pd\n",
    "from sklearn.ensemble import RandomForestClassifier\n",
    "from sklearn.model_selection import train_test_split\n",
    "from sklearn.metrics import confusion_matrix, classification_report\n",
    "import numpy as np"
   ]
  },
  {
   "cell_type": "code",
   "execution_count": 35,
   "metadata": {},
   "outputs": [
    {
     "name": "stderr",
     "output_type": "stream",
     "text": [
      "/opt/anaconda3/lib/python3.6/site-packages/ipykernel_launcher.py:2: DataConversionWarning: A column-vector y was passed when a 1d array was expected. Please change the shape of y to (n_samples,), for example using ravel().\n",
      "  \n"
     ]
    },
    {
     "name": "stdout",
     "output_type": "stream",
     "text": [
      "              precision    recall  f1-score   support\n",
      "\n",
      "         0.0       0.95      0.99      0.97       224\n",
      "         1.0       0.95      0.78      0.86        50\n",
      "\n",
      "    accuracy                           0.95       274\n",
      "   macro avg       0.95      0.89      0.91       274\n",
      "weighted avg       0.95      0.95      0.95       274\n",
      "\n"
     ]
    }
   ],
   "source": [
    "ml = RandomForestClassifier(criterion='entropy',n_estimators=100)\n",
    "ml.fit(featured_train,y_train)\n",
    "y_pred = ml.predict(featured_test)\n",
    "\n",
    "print(classification_report(y_test,y_pred))"
   ]
  },
  {
   "cell_type": "code",
   "execution_count": null,
   "metadata": {},
   "outputs": [],
   "source": []
  }
 ],
 "metadata": {
  "kernelspec": {
   "display_name": "Python 3",
   "language": "python",
   "name": "python3"
  },
  "language_info": {
   "codemirror_mode": {
    "name": "ipython",
    "version": 3
   },
   "file_extension": ".py",
   "mimetype": "text/x-python",
   "name": "python",
   "nbconvert_exporter": "python",
   "pygments_lexer": "ipython3",
   "version": "3.6.5"
  }
 },
 "nbformat": 4,
 "nbformat_minor": 2
}
