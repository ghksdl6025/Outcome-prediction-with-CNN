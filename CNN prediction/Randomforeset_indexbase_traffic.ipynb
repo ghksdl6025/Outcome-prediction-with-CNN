{
 "cells": [
  {
   "cell_type": "code",
   "execution_count": 79,
   "metadata": {},
   "outputs": [],
   "source": [
    "import pandas as pd\n",
    "from sklearn.ensemble import RandomForestClassifier\n",
    "from sklearn.model_selection import train_test_split\n",
    "from sklearn.metrics import confusion_matrix, classification_report,roc_auc_score\n",
    "from xgboost import XGBClassifier,plot_importance\n",
    "import numpy as np"
   ]
  },
  {
   "cell_type": "code",
   "execution_count": 114,
   "metadata": {},
   "outputs": [],
   "source": [
    "encoding_type = 'indexbase'\n",
    "prefix = 6\n",
    "input_data = pd.read_csv('../data/trafficfine/'+encoding_type+'_prefix'+str(prefix)+'.csv')\n",
    "event_atts=[]\n",
    "event_cat =['Activity','dismissal','lastSent','matricola','notificationType','org:resource','Timemonth','Timeweekday','Timehour']\n",
    "event_con =['expense','paymentAmount','totalPaymentAmount','Duration','Cumduration']\n",
    "for col in input_data.columns.values:\n",
    "    for e_col in event_cat+event_con:\n",
    "        if e_col in col:\n",
    "            event_atts.append(col)\n",
    "\n",
    "\n",
    "input_data = input_data.drop('Case ID',axis=1)\n",
    "y_data = input_data.loc[:,['Label']]\n",
    "input_data = input_data.drop(['Label'],axis=1)\n",
    "input_data = input_data.loc[:,event_atts]\n",
    "x_data = input_data\n",
    "# x_data = x_data.drop('(case) SUMleges',axis=1)\n",
    "\n"
   ]
  },
  {
   "cell_type": "code",
   "execution_count": 115,
   "metadata": {},
   "outputs": [],
   "source": [
    "import math\n",
    "abandon=set()\n",
    "for col in x_data.columns.values:\n",
    "    for t in x_data[col]:\n",
    "        try:\n",
    "            if math.isnan(t):\n",
    "                abandon.add(col)\n",
    "        except:\n",
    "            pass\n",
    "ncol = [col for col in x_data.columns.values if col not in sorted(abandon)]\n",
    "x_data = x_data.loc[:,ncol]"
   ]
  },
  {
   "cell_type": "code",
   "execution_count": 116,
   "metadata": {},
   "outputs": [
    {
     "name": "stderr",
     "output_type": "stream",
     "text": [
      "/opt/anaconda3/lib/python3.6/site-packages/ipykernel_launcher.py:3: DataConversionWarning: A column-vector y was passed when a 1d array was expected. Please change the shape of y to (n_samples,), for example using ravel().\n",
      "  This is separate from the ipykernel package so we can avoid doing imports until\n"
     ]
    },
    {
     "name": "stdout",
     "output_type": "stream",
     "text": [
      "              precision    recall  f1-score   support\n",
      "\n",
      "           0       0.78      0.98      0.87       325\n",
      "           1       0.62      0.13      0.21       101\n",
      "\n",
      "    accuracy                           0.77       426\n",
      "   macro avg       0.70      0.55      0.54       426\n",
      "weighted avg       0.74      0.77      0.71       426\n",
      "\n",
      "0.5520487433358722\n",
      "{'precision': 0.782716049382716, 'recall': 0.9753846153846154, 'f1-score': 0.8684931506849315, 'support': 325}\n"
     ]
    }
   ],
   "source": [
    "x_train, x_test, y_train, y_test = train_test_split(x_data, y_data, test_size=0.33, random_state = 10)\n",
    "ml = RandomForestClassifier(criterion='entropy',n_estimators=500)\n",
    "ml.fit(x_train,y_train)\n",
    "y_pred = ml.predict(x_test)\n",
    "\n",
    "print(classification_report(y_test,y_pred))\n",
    "print(roc_auc_score(y_test,y_pred))\n",
    "print(classification_report(y_test,y_pred,output_dict=True)['0'])"
   ]
  },
  {
   "cell_type": "code",
   "execution_count": 67,
   "metadata": {},
   "outputs": [
    {
     "name": "stderr",
     "output_type": "stream",
     "text": [
      "/opt/anaconda3/lib/python3.6/site-packages/ipykernel_launcher.py:3: DataConversionWarning: A column-vector y was passed when a 1d array was expected. Please change the shape of y to (n_samples,), for example using ravel().\n",
      "  This is separate from the ipykernel package so we can avoid doing imports until\n"
     ]
    },
    {
     "name": "stdout",
     "output_type": "stream",
     "text": [
      "              precision    recall  f1-score   support\n",
      "\n",
      "           0       0.77      0.97      0.86       325\n",
      "           1       0.45      0.09      0.15       101\n",
      "\n",
      "    accuracy                           0.76       426\n",
      "   macro avg       0.61      0.53      0.50       426\n",
      "weighted avg       0.70      0.76      0.69       426\n",
      "\n",
      "0.5276313785224677\n"
     ]
    },
    {
     "name": "stderr",
     "output_type": "stream",
     "text": [
      "/home/suhwan/.local/lib/python3.6/site-packages/sklearn/preprocessing/_label.py:235: DataConversionWarning: A column-vector y was passed when a 1d array was expected. Please change the shape of y to (n_samples, ), for example using ravel().\n",
      "  y = column_or_1d(y, warn=True)\n",
      "/home/suhwan/.local/lib/python3.6/site-packages/sklearn/preprocessing/_label.py:268: DataConversionWarning: A column-vector y was passed when a 1d array was expected. Please change the shape of y to (n_samples, ), for example using ravel().\n",
      "  y = column_or_1d(y, warn=True)\n"
     ]
    },
    {
     "name": "stdout",
     "output_type": "stream",
     "text": [
      "              precision    recall  f1-score   support\n",
      "\n",
      "           0       0.78      0.88      0.83       325\n",
      "           1       0.34      0.21      0.26       101\n",
      "\n",
      "    accuracy                           0.72       426\n",
      "   macro avg       0.56      0.54      0.54       426\n",
      "weighted avg       0.68      0.72      0.69       426\n",
      "\n",
      "0.5424219345011424\n",
      "{'precision': 0.7808219178082192, 'recall': 0.8769230769230769, 'f1-score': 0.8260869565217391, 'support': 325}\n"
     ]
    }
   ],
   "source": [
    "x_train, x_test, y_train, y_test = train_test_split(x_data, y_data, test_size=0.33, random_state=10)\n",
    "ml = RandomForestClassifier(criterion='entropy',n_estimators=500)\n",
    "ml.fit(x_train,y_train)\n",
    "y_pred = ml.predict(x_test)\n",
    "\n",
    "print(classification_report(y_test,y_pred))\n",
    "print(roc_auc_score(y_test,y_pred))\n",
    "\n",
    "xgb = XGBClassifier(n_estimators = 500,learning_rate=0.1,max_depth=4)\n",
    "xgb.fit(x_train,y_train)\n",
    "xgb_pred = xgb.predict(x_test)\n",
    "\n",
    "print(classification_report(y_test,xgb_pred))\n",
    "print(roc_auc_score(y_test,xgb_pred))\n"
   ]
  },
  {
   "cell_type": "code",
   "execution_count": null,
   "metadata": {},
   "outputs": [],
   "source": []
  }
 ],
 "metadata": {
  "kernelspec": {
   "display_name": "Python 3",
   "language": "python",
   "name": "python3"
  },
  "language_info": {
   "codemirror_mode": {
    "name": "ipython",
    "version": 3
   },
   "file_extension": ".py",
   "mimetype": "text/x-python",
   "name": "python",
   "nbconvert_exporter": "python",
   "pygments_lexer": "ipython3",
   "version": "3.6.5"
  }
 },
 "nbformat": 4,
 "nbformat_minor": 2
}
