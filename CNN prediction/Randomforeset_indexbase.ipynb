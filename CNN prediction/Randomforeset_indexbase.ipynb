{
 "cells": [
  {
   "cell_type": "code",
   "execution_count": 1,
   "metadata": {},
   "outputs": [],
   "source": [
    "import pandas as pd\n",
    "from sklearn.ensemble import RandomForestClassifier\n",
    "from sklearn.model_selection import train_test_split\n",
    "from sklearn.metrics import confusion_matrix, classification_report,roc_auc_score\n",
    "import numpy as np"
   ]
  },
  {
   "cell_type": "code",
   "execution_count": 2,
   "metadata": {},
   "outputs": [],
   "source": [
    "encoding_type = 'indexbase'\n",
    "prefix = 5\n",
    "input_data = pd.read_csv('../data/bpic2011/'+encoding_type+'_prefix'+str(prefix)+'.csv')\n",
    "event_cat =['Activity','Section','Specialism code','Producer code','org:group','Timemonth','Timeweekday','Timehour']\n",
    "event_con =['Duration','Cumduration']\n",
    "event_atts=[]\n",
    "for col in input_data.columns.values:\n",
    "    for e_col in event_cat+event_con:\n",
    "        if e_col in col:\n",
    "            event_atts.append(col)\n",
    "\n",
    "\n",
    "input_data = input_data.drop('Case ID',axis=1)\n",
    "y_data = input_data.loc[:,['Label']]\n",
    "input_data = input_data.drop(['Label'],axis=1)\n",
    "input_data = input_data.loc[:,event_atts]\n",
    "x_data = input_data\n",
    "# x_data = x_data.drop('(case) SUMleges',axis=1)\n",
    "\n"
   ]
  },
  {
   "cell_type": "code",
   "execution_count": 3,
   "metadata": {},
   "outputs": [
    {
     "name": "stderr",
     "output_type": "stream",
     "text": [
      "/opt/anaconda3/lib/python3.6/site-packages/ipykernel_launcher.py:3: DataConversionWarning: A column-vector y was passed when a 1d array was expected. Please change the shape of y to (n_samples,), for example using ravel().\n",
      "  This is separate from the ipykernel package so we can avoid doing imports until\n"
     ]
    },
    {
     "name": "stdout",
     "output_type": "stream",
     "text": [
      "              precision    recall  f1-score   support\n",
      "\n",
      "         0.0       0.70      0.68      0.69       154\n",
      "         1.0       0.69      0.71      0.70       157\n",
      "\n",
      "    accuracy                           0.69       311\n",
      "   macro avg       0.69      0.69      0.69       311\n",
      "weighted avg       0.69      0.69      0.69       311\n",
      "\n",
      "0.6944122756224669\n"
     ]
    }
   ],
   "source": [
    "x_train, x_test, y_train, y_test = train_test_split(x_data, y_data, test_size=0.33, random_state=69)\n",
    "ml = RandomForestClassifier(criterion='entropy',n_estimators=100)\n",
    "ml.fit(x_train,y_train)\n",
    "y_pred = ml.predict(x_test)\n",
    "\n",
    "print(classification_report(y_test,y_pred))\n",
    "print(roc_auc_score(y_test,y_pred))"
   ]
  },
  {
   "cell_type": "code",
   "execution_count": null,
   "metadata": {},
   "outputs": [],
   "source": []
  }
 ],
 "metadata": {
  "kernelspec": {
   "display_name": "Python 3",
   "language": "python",
   "name": "python3"
  },
  "language_info": {
   "codemirror_mode": {
    "name": "ipython",
    "version": 3
   },
   "file_extension": ".py",
   "mimetype": "text/x-python",
   "name": "python",
   "nbconvert_exporter": "python",
   "pygments_lexer": "ipython3",
   "version": "3.6.5"
  }
 },
 "nbformat": 4,
 "nbformat_minor": 2
}
